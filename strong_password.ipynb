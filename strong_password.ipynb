{
  "nbformat": 4,
  "nbformat_minor": 0,
  "metadata": {
    "colab": {
      "name": "strong_password.ipynb",
      "provenance": [],
      "collapsed_sections": [],
      "authorship_tag": "ABX9TyOOZVZRhZwypwMUpcjszNSg",
      "include_colab_link": true
    },
    "kernelspec": {
      "name": "python3",
      "display_name": "Python 3"
    },
    "language_info": {
      "name": "python"
    }
  },
  "cells": [
    {
      "cell_type": "markdown",
      "metadata": {
        "id": "view-in-github",
        "colab_type": "text"
      },
      "source": [
        "<a href=\"https://colab.research.google.com/github/emilice/Strong-Password/blob/main/strong_password.ipynb\" target=\"_parent\"><img src=\"https://colab.research.google.com/assets/colab-badge.svg\" alt=\"Open In Colab\"/></a>"
      ]
    },
    {
      "cell_type": "code",
      "execution_count": 9,
      "metadata": {
        "colab": {
          "base_uri": "https://localhost:8080/"
        },
        "id": "TZazT37o3e4r",
        "outputId": "42b7acca-5d0a-4237-eef0-44a3495a4f09"
      },
      "outputs": [
        {
          "output_type": "stream",
          "name": "stdout",
          "text": [
            "abcçdefgğhiıjklmnoöprsştuüvyzABCÇDEFGĞHIIJKLMNOÖPRSŞTUÜVYZ0123456789!^+%&*-.\n",
            "Şifre dizisi: ['6', 'S', 'p', '!', 'y', '5', '7', 'f', 'I', 'c']\n",
            "Şifreniz 1: 6Sp!y57fIc\n",
            "Şifreniz 2: 6 S p ! y 5 7 f I c\n",
            "Şifreniz 3: 6. .S. .p. .!. .y. .5. .7. .f. .I. .c\n"
          ]
        }
      ],
      "source": [
        "import random\n",
        "\n",
        "low=\"abcçdefgğhiıjklmnoöprsştuüvyz\"\n",
        "up=low.upper()\n",
        "num=\"0123456789\"\n",
        "mark=\"!^+%&*-.\"\n",
        "\n",
        "total=low+up+num+mark\n",
        "\n",
        "password=random.choices(total, k=10) #rastgele seçilmiş 10 karakterli şifre\n",
        "print(\"Şifre dizisi:\",password)\n",
        "\n",
        "password=\"\".join(password) #tırnak içine ne girilirse her karakter arasına eklenir\n",
        "print(\"Şifreniz 1:\",password)\n",
        "\n",
        "password=\" \".join(password)\n",
        "print(\"Şifreniz 2:\",password)\n",
        "\n",
        "password=\".\".join(password)\n",
        "print(\"Şifreniz 3:\",password)"
      ]
    }
  ]
}